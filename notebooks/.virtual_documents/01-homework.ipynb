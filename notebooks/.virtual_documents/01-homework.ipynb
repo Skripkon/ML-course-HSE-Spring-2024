


def func(numbers):
    result_dict = {"mean": ..., "median": ..., "mode": ...}

    # Calculate the mean value
    result_dict["mean"] = sum(numbers) / len(numbers)

    # Calculate the median value
    sorted_numbers = sorted(numbers)
    length = len(sorted_numbers) 
    if length % 2 == 0:
        mid1 = sorted_numbers[length // 2 - 1]
        mid2 = sorted_numbers[length // 2]
        result_dict["median"] = (mid1 + mid2) / 2
    else:
        result_dict["median"] = sorted_numbers[length // 2]

    # Calculate the mode value
    mode = None
    mode_value = -1
    counts = {}
    for num in numbers:
        counts[num] = counts.get(num, 0) + 1
        if counts[num] > mode_value:
            mode_value, mode = counts[num], num
    result_dict["mode"] = mode
    
    return result_dict


func([0, 1, 1, 10, 5, 4, 3])





def parse_csv(file_content: str) -> list[dict]:
    
    heroes_list = list()
    
    with open(file_content, 'r') as file:
        columns = file.readline().strip().split(',')
        columns[0] = 'index'
        for line in file:
            values = line.split(',', 7)
            roles_string_parsed = ""
            for char in values[7]:
                if char in ["\"", "\'", ']', '[', ',', '\n']:
                    continue
                else:
                    roles_string_parsed += char
            values[7] = roles_string_parsed.split(' ')
            
            hero_dict = dict(zip(columns, values))
            hero_dict['index'] = int(hero_dict['index'])
            hero_dict['id'] = int(hero_dict['id'])
            hero_dict['legs'] = int(hero_dict['legs'])
            
            heroes_list.append(hero_dict)

    return heroes_list


data = parse_csv("../data/dota_hero_stats.csv")


data[0:3]





def get_a_hero_with_a_maximum_number_of_legs(heroes):
    max_legs = 0
    hero_index = None
    for index, hero in enumerate(data):
        if hero['legs'] > max_legs:
            max_legs = hero['legs']
            hero_index = index
    return heroes[hero_index]


get_a_hero_with_a_maximum_number_of_legs(heroes=data)








def scaler(data):
    for idx in range(len(data)):
        data[idx]['legs'] /= 3
    return data


data = scaler(data)


def add_one_hot_encoding(data):
    for idx in range(len(data)):
        for role in data[idx]['roles']:
            data[idx][role] = 1
    return data


data = add_one_hot_encoding(data)


def compute_the_distance(hero1: dict, hero2: dict) -> float: 
    # computes the distance for two heroes according to the formula above
    distance = abs(hero1['legs'] - hero2['legs'])
    for feature in ['attack_type', 'primary_attr']:
        if hero1[feature] != hero2[feature]:
            distance += 1
    for role in hero1['roles']:
        distance += abs(hero1[role] - hero2.get(role, 0))

    for role in hero2['roles']:
        distance += abs(hero2[role] - hero1.get(role, 0))

    return distance


def find_two_the_closest_heroes(data):
    dist_min = 1e9
    hero1_index, hero2_index = None, None
    
    for i in range(len(data)):
        for j in range(i + 1, len(data)):
            dist = compute_the_distance(data[i], data[j])
            if dist < dist_min:
                dist_min = dist
                hero1_index = i
                hero2_index = j
    return dist, data[hero1_index], data[hero2_index]


find_two_the_closest_heroes(data)
