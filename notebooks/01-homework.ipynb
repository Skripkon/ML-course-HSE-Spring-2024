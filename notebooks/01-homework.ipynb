{
 "cells": [
  {
   "cell_type": "markdown",
   "metadata": {},
   "source": [
    "# Easy (+0.1)"
   ]
  },
  {
   "cell_type": "code",
   "execution_count": 1,
   "metadata": {},
   "outputs": [],
   "source": [
    "def func(numbers):\n",
    "    result_dict = {\"mean\": ..., \"median\": ..., \"mode\": ...}\n",
    "\n",
    "    # Calculate the mean value\n",
    "    result_dict[\"mean\"] = sum(numbers) / len(numbers)\n",
    "\n",
    "    # Calculate the median value\n",
    "    sorted_numbers = sorted(numbers)\n",
    "    length = len(sorted_numbers) \n",
    "    if length % 2 == 0:\n",
    "        mid1 = sorted_numbers[length // 2 - 1]\n",
    "        mid2 = sorted_numbers[length // 2]\n",
    "        result_dict[\"median\"] = (mid1 + mid2) / 2\n",
    "    else:\n",
    "        result_dict[\"median\"] = sorted_numbers[length // 2]\n",
    "\n",
    "    # Calculate the mode value\n",
    "    mode = None\n",
    "    mode_value = -1\n",
    "    counts = {}\n",
    "    for num in numbers:\n",
    "        counts[num] = counts.get(num, 0) + 1\n",
    "        if counts[num] > mode_value:\n",
    "            mode_value, mode = counts[num], num\n",
    "    result_dict[\"mode\"] = mode\n",
    "    \n",
    "    return result_dict"
   ]
  },
  {
   "cell_type": "code",
   "execution_count": 2,
   "metadata": {},
   "outputs": [
    {
     "data": {
      "text/plain": [
       "{'mean': 3.4285714285714284, 'median': 3, 'mode': 1}"
      ]
     },
     "execution_count": 2,
     "metadata": {},
     "output_type": "execute_result"
    }
   ],
   "source": [
    "func([0, 1, 1, 10, 5, 4, 3])"
   ]
  },
  {
   "cell_type": "markdown",
   "metadata": {},
   "source": [
    "# Medium (+0.4)"
   ]
  },
  {
   "cell_type": "code",
   "execution_count": 3,
   "metadata": {},
   "outputs": [],
   "source": [
    "def parse_csv(file_content: str) -> list[dict]:\n",
    "    \n",
    "    heroes_list = list()\n",
    "    \n",
    "    with open(file_content, 'r') as file:\n",
    "        columns = file.readline().strip().split(',')\n",
    "        columns[0] = 'index'\n",
    "        for line in file:\n",
    "            values = line.split(',', 7)\n",
    "            roles_string_parsed = \"\"\n",
    "            for char in values[7]:\n",
    "                if char in [\"\\\"\", \"\\'\", ']', '[', ',', '\\n']:\n",
    "                    continue\n",
    "                else:\n",
    "                    roles_string_parsed += char\n",
    "            values[7] = roles_string_parsed.split(' ')\n",
    "            \n",
    "            hero_dict = dict(zip(columns, values))\n",
    "            hero_dict['index'] = int(hero_dict['index'])\n",
    "            hero_dict['id'] = int(hero_dict['id'])\n",
    "            hero_dict['legs'] = int(hero_dict['legs'])\n",
    "            \n",
    "            heroes_list.append(hero_dict)\n",
    "\n",
    "    return heroes_list"
   ]
  },
  {
   "cell_type": "code",
   "execution_count": 4,
   "metadata": {},
   "outputs": [],
   "source": [
    "data = parse_csv(\"../data/dota_hero_stats.csv\")"
   ]
  },
  {
   "cell_type": "code",
   "execution_count": 5,
   "metadata": {},
   "outputs": [
    {
     "data": {
      "text/plain": [
       "[{'index': 0,\n",
       "  'attack_type': 'Melee',\n",
       "  'id': 1,\n",
       "  'legs': 2,\n",
       "  'localized_name': 'Anti-Mage',\n",
       "  'name': 'npc_dota_hero_antimage',\n",
       "  'primary_attr': 'agi',\n",
       "  'roles': ['Carry', 'Escape', 'Nuker']},\n",
       " {'index': 1,\n",
       "  'attack_type': 'Melee',\n",
       "  'id': 2,\n",
       "  'legs': 2,\n",
       "  'localized_name': 'Axe',\n",
       "  'name': 'npc_dota_hero_axe',\n",
       "  'primary_attr': 'str',\n",
       "  'roles': ['Initiator', 'Durable', 'Disabler', 'Jungler']},\n",
       " {'index': 2,\n",
       "  'attack_type': 'Ranged',\n",
       "  'id': 3,\n",
       "  'legs': 4,\n",
       "  'localized_name': 'Bane',\n",
       "  'name': 'npc_dota_hero_bane',\n",
       "  'primary_attr': 'int',\n",
       "  'roles': ['Support', 'Disabler', 'Nuker', 'Durable']}]"
      ]
     },
     "execution_count": 5,
     "metadata": {},
     "output_type": "execute_result"
    }
   ],
   "source": [
    "data[0:3]"
   ]
  },
  {
   "cell_type": "markdown",
   "metadata": {},
   "source": [
    "## Find a hero with the largest value of ```legs```"
   ]
  },
  {
   "cell_type": "code",
   "execution_count": 6,
   "metadata": {},
   "outputs": [],
   "source": [
    "def get_a_hero_with_a_maximum_number_of_legs(heroes):\n",
    "    max_legs = 0\n",
    "    hero_index = None\n",
    "    for index, hero in enumerate(data):\n",
    "        if hero['legs'] > max_legs:\n",
    "            max_legs = hero['legs']\n",
    "            hero_index = index\n",
    "    return heroes[hero_index]"
   ]
  },
  {
   "cell_type": "code",
   "execution_count": 7,
   "metadata": {},
   "outputs": [
    {
     "data": {
      "text/plain": [
       "{'index': 59,\n",
       " 'attack_type': 'Melee',\n",
       " 'id': 61,\n",
       " 'legs': 8,\n",
       " 'localized_name': 'Broodmother',\n",
       " 'name': 'npc_dota_hero_broodmother',\n",
       " 'primary_attr': 'agi',\n",
       " 'roles': ['Carry', 'Pusher', 'Escape', 'Nuker']}"
      ]
     },
     "execution_count": 7,
     "metadata": {},
     "output_type": "execute_result"
    }
   ],
   "source": [
    "get_a_hero_with_a_maximum_number_of_legs(heroes=data)"
   ]
  },
  {
   "cell_type": "markdown",
   "metadata": {},
   "source": [
    "## ANSWER: 8"
   ]
  },
  {
   "cell_type": "markdown",
   "metadata": {},
   "source": [
    "# Hard (+ в карму)"
   ]
  },
  {
   "cell_type": "markdown",
   "metadata": {},
   "source": [
    "1. Each possible role should be represented by a column (using one-hot encoding). <h3><center> $\\rho(x_i, x_j) = |x_{i, \\text{legs}} - x_{j, \\text{legs}}| + \\sum_k I(x_{i, k} \\neq x_{j, k})$ </center></h3> where the last sum iterates through all features except ``legs`` (after one-hot encoding is implied).\n",
    "2. Since $0 \\leq$ ```legs``` $\\leq 8$, MinMaxScaler isn't necessary. However, to make it less impactful, let's apply the following:\n",
    "<h3><center> $legs_i := \\frac{legs_i}{3}$ <center></h3>"
   ]
  },
  {
   "cell_type": "code",
   "execution_count": 8,
   "metadata": {},
   "outputs": [],
   "source": [
    "def scaler(data):\n",
    "    for idx in range(len(data)):\n",
    "        data[idx]['legs'] /= 3\n",
    "    return data"
   ]
  },
  {
   "cell_type": "code",
   "execution_count": 9,
   "metadata": {},
   "outputs": [],
   "source": [
    "data = scaler(data)"
   ]
  },
  {
   "cell_type": "code",
   "execution_count": 10,
   "metadata": {},
   "outputs": [],
   "source": [
    "def add_one_hot_encoding(data):\n",
    "    for idx in range(len(data)):\n",
    "        for role in data[idx]['roles']:\n",
    "            data[idx][role] = 1\n",
    "    return data"
   ]
  },
  {
   "cell_type": "code",
   "execution_count": 11,
   "metadata": {},
   "outputs": [],
   "source": [
    "data = add_one_hot_encoding(data)"
   ]
  },
  {
   "cell_type": "code",
   "execution_count": 12,
   "metadata": {},
   "outputs": [],
   "source": [
    "def compute_the_distance(hero1: dict, hero2: dict) -> float: \n",
    "    # computes the distance for two heroes according to the formula above\n",
    "    distance = abs(hero1['legs'] - hero2['legs'])\n",
    "    for feature in ['attack_type', 'primary_attr']:\n",
    "        if hero1[feature] != hero2[feature]:\n",
    "            distance += 1\n",
    "    for role in hero1['roles']:\n",
    "        distance += abs(hero1[role] - hero2.get(role, 0))\n",
    "\n",
    "    for role in hero2['roles']:\n",
    "        distance += abs(hero2[role] - hero1.get(role, 0))\n",
    "\n",
    "    return distance"
   ]
  },
  {
   "cell_type": "code",
   "execution_count": 13,
   "metadata": {},
   "outputs": [],
   "source": [
    "def find_two_the_closest_heroes(data):\n",
    "    dist_min = 1e9\n",
    "    hero1_index, hero2_index = None, None\n",
    "    \n",
    "    for i in range(len(data)):\n",
    "        for j in range(i + 1, len(data)):\n",
    "            dist = compute_the_distance(data[i], data[j])\n",
    "            if dist < dist_min:\n",
    "                dist_min = dist\n",
    "                hero1_index = i\n",
    "                hero2_index = j\n",
    "    return dist_min, data[hero1_index], data[hero2_index]"
   ]
  },
  {
   "cell_type": "code",
   "execution_count": 14,
   "metadata": {},
   "outputs": [
    {
     "data": {
      "text/plain": [
       "(0.0,\n",
       " {'index': 4,\n",
       "  'attack_type': 'Ranged',\n",
       "  'id': 5,\n",
       "  'legs': 0.6666666666666666,\n",
       "  'localized_name': 'Crystal Maiden',\n",
       "  'name': 'npc_dota_hero_crystal_maiden',\n",
       "  'primary_attr': 'int',\n",
       "  'roles': ['Support', 'Disabler', 'Nuker', 'Jungler'],\n",
       "  'Support': 1,\n",
       "  'Disabler': 1,\n",
       "  'Nuker': 1,\n",
       "  'Jungler': 1},\n",
       " {'index': 88,\n",
       "  'attack_type': 'Ranged',\n",
       "  'id': 90,\n",
       "  'legs': 0.6666666666666666,\n",
       "  'localized_name': 'Keeper of the Light',\n",
       "  'name': 'npc_dota_hero_keeper_of_the_light',\n",
       "  'primary_attr': 'int',\n",
       "  'roles': ['Support', 'Nuker', 'Disabler', 'Jungler'],\n",
       "  'Support': 1,\n",
       "  'Nuker': 1,\n",
       "  'Disabler': 1,\n",
       "  'Jungler': 1})"
      ]
     },
     "execution_count": 14,
     "metadata": {},
     "output_type": "execute_result"
    }
   ],
   "source": [
    "find_two_the_closest_heroes(data)"
   ]
  }
 ],
 "metadata": {
  "kernelspec": {
   "display_name": "Python 3 (ipykernel)",
   "language": "python",
   "name": "python3"
  },
  "language_info": {
   "codemirror_mode": {
    "name": "ipython",
    "version": 3
   },
   "file_extension": ".py",
   "mimetype": "text/x-python",
   "name": "python",
   "nbconvert_exporter": "python",
   "pygments_lexer": "ipython3",
   "version": "3.11.5"
  }
 },
 "nbformat": 4,
 "nbformat_minor": 4
}
