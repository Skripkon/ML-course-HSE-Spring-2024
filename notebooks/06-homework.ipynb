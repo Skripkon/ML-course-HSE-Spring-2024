{
 "cells": [
  {
   "cell_type": "code",
   "execution_count": 1,
   "metadata": {},
   "outputs": [],
   "source": [
    "import pandas as pd\n",
    "import numpy as np\n",
    "import warnings\n",
    "import matplotlib.pyplot as plt\n",
    "import seaborn as sns\n",
    "from sklearn.metrics import f1_score\n",
    "from sklearn.model_selection import train_test_split\n",
    "from sklearn.feature_extraction.text import CountVectorizer\n",
    "from catboost import CatBoostClassifier\n",
    "from nltk.stem import WordNetLemmatizer\n",
    "from sklearn.model_selection import GridSearchCV\n",
    "import re\n",
    "from nltk.corpus import stopwords\n",
    "import nltk\n",
    "warnings.filterwarnings(\"ignore\")"
   ]
  },
  {
   "cell_type": "code",
   "execution_count": 2,
   "metadata": {},
   "outputs": [],
   "source": [
    "data = pd.read_csv(\"../data/singapore_airlines_reviews.csv\")"
   ]
  },
  {
   "cell_type": "code",
   "execution_count": 3,
   "metadata": {},
   "outputs": [
    {
     "data": {
      "image/png": "[encoded data removed]",
      "text/plain": [
       "<Figure size 640x480 with 1 Axes>"
      ]
     },
     "metadata": {},
     "output_type": "display_data"
    }
   ],
   "source": [
    "reviews = [\"1\", \"2\", \"3\", \"4\", \"5\"]\n",
    "number_of_reviews = [data['rating'].value_counts()[x] for x in range(1, 6)]\n",
    "\n",
    "#define Seaborn color palette to use\n",
    "colors = sns.light_palette('seagreen')[0:5]\n",
    "\n",
    "#create pie chart\n",
    "plt.pie(number_of_reviews, labels = reviews, colors = colors, autopct='%.0f%%')\n",
    "plt.show()"
   ]
  },
  {
   "cell_type": "code",
   "execution_count": 4,
   "metadata": {},
   "outputs": [],
   "source": [
    "# Simplify target\n",
    "\n",
    "data['rating'] = data['rating'] > 3\n",
    "data['rating'] = data['rating'].astype(int)"
   ]
  },
  {
   "cell_type": "code",
   "execution_count": 5,
   "metadata": {},
   "outputs": [
    {
     "data": {
      "image/png": "[encoded data removed]",
      "text/plain": [
       "<Figure size 640x480 with 1 Axes>"
      ]
     },
     "metadata": {},
     "output_type": "display_data"
    }
   ],
   "source": [
    "reviews = [0, 1]\n",
    "number_of_reviews = [data['rating'].value_counts()[x] for x in range(0, 2)]\n",
    "\n",
    "#define Seaborn color palette to use\n",
    "colors = sns.light_palette('seagreen')[0:2]\n",
    "\n",
    "#create pie chart\n",
    "plt.pie(number_of_reviews, labels = reviews, colors = colors, autopct='%.0f%%')\n",
    "plt.show()"
   ]
  },
  {
   "cell_type": "markdown",
   "metadata": {},
   "source": [
    "# **Easy**\n",
    "\n",
    "- Выбрать метрику.\n",
    "\n",
    "- Удалить пунктуацию из датасета.\n",
    "\n",
    "- Преобразовать датасет в BOW или TF-IDF, поделить на треин-тест и спрогнозировать вашей любимой моделью"
   ]
  },
  {
   "cell_type": "markdown",
   "metadata": {},
   "source": [
    "```f1_score``` is applicable, since we are dealing with imbalanced data"
   ]
  },
  {
   "cell_type": "code",
   "execution_count": 6,
   "metadata": {},
   "outputs": [],
   "source": [
    "def delete_punctuation_from_string(s: str):\n",
    "    return re.sub(r'[^\\w\\s]','', s)"
   ]
  },
  {
   "cell_type": "code",
   "execution_count": 7,
   "metadata": {},
   "outputs": [],
   "source": [
    "data[\"text_title\"] = data[\"title\"] + \" \" + data[\"text\"]"
   ]
  },
  {
   "cell_type": "code",
   "execution_count": 8,
   "metadata": {},
   "outputs": [],
   "source": [
    "data.loc[:, \"text_title\"] = data[\"text_title\"].astype(str)\n",
    "data.loc[:, \"text_title\"] = data[\"text_title\"].apply(delete_punctuation_from_string)"
   ]
  },
  {
   "cell_type": "code",
   "execution_count": 9,
   "metadata": {},
   "outputs": [],
   "source": [
    "train, test = train_test_split(data, random_state=239)"
   ]
  },
  {
   "cell_type": "code",
   "execution_count": 10,
   "metadata": {},
   "outputs": [
    {
     "data": {
      "text/plain": [
       "0.9396574440052701"
      ]
     },
     "execution_count": 10,
     "metadata": {},
     "output_type": "execute_result"
    }
   ],
   "source": [
    "bow = CountVectorizer()\n",
    "\n",
    "x_train = bow.fit_transform(train[\"text_title\"])\n",
    "x_test = bow.transform(test[\"text_title\"])\n",
    "y_train = train[\"rating\"]\n",
    "    \n",
    "model = CatBoostClassifier(verbose=0)\n",
    "model.fit(x_train, y_train)\n",
    "\n",
    "y_test = test[\"rating\"]\n",
    "\n",
    "y_pred = model.predict(x_test)\n",
    "\n",
    "f1_score(y_pred, y_test)"
   ]
  },
  {
   "cell_type": "markdown",
   "metadata": {},
   "source": [
    "# **Normal**\n",
    "Удалить стоп-слова, применить стемминг/лемматизацию. Обучить несколько моделей, подобрать параметры, сделать выводы.\n",
    "\n",
    "Написать самостоятельно два отзыва - один положительный, один негативный, посмотреть, угадает ли модель."
   ]
  },
  {
   "cell_type": "code",
   "execution_count": 11,
   "metadata": {},
   "outputs": [],
   "source": [
    "l = WordNetLemmatizer()\n",
    "\n",
    "def lemmatize(x):\n",
    "    x = map(lambda r:  ' '.join([l.lemmatize(i.lower()) for i in r.split()]), x)\n",
    "    x = np.array(list(x))\n",
    "    return x\n",
    "\n",
    "stop_words = stopwords.words('english')\n",
    "\n",
    "def delete_stop_word(s):\n",
    "    words = s.split()\n",
    "    return \" \".join([word for word in words if word.lower() not in stop_words])"
   ]
  },
  {
   "cell_type": "code",
   "execution_count": 12,
   "metadata": {},
   "outputs": [],
   "source": [
    "# apply lemmatization\n",
    "\n",
    "train[\"text_title\"] = lemmatize(train[\"text_title\"])\n",
    "test[\"text_title\"] = lemmatize(test[\"text_title\"])"
   ]
  },
  {
   "cell_type": "code",
   "execution_count": 13,
   "metadata": {},
   "outputs": [],
   "source": [
    "# delete stop words\n",
    "\n",
    "train[\"text_title\"] = train[\"text_title\"].apply(delete_stop_word)\n",
    "test[\"text_title\"] = test[\"text_title\"].apply(delete_stop_word)"
   ]
  },
  {
   "cell_type": "code",
   "execution_count": 14,
   "metadata": {},
   "outputs": [],
   "source": [
    "# Choose hyperparameters\n",
    "\n",
    "parameters = {\"depth\": [3, 5, 6],\n",
    "          \"iterations\": [300, 500, 700],\n",
    "          \"learning_rate\": [0.05, 0.1]\n",
    "}"
   ]
  },
  {
   "cell_type": "code",
   "execution_count": 15,
   "metadata": {},
   "outputs": [],
   "source": [
    "bow = CountVectorizer()\n",
    "\n",
    "x_train = bow.fit_transform(train[\"text_title\"])\n",
    "x_test = bow.transform(test[\"text_title\"])\n",
    "y_train = train[\"rating\"]\n",
    "\n",
    "clf = GridSearchCV(CatBoostClassifier(verbose=0), parameters)\n",
    "clf.fit(x_train, y_train)\n",
    "\n",
    "y_test = test[\"rating\"]\n",
    "\n",
    "y_pred = clf.predict(x_test)"
   ]
  },
  {
   "cell_type": "code",
   "execution_count": 16,
   "metadata": {},
   "outputs": [
    {
     "data": {
      "text/plain": [
       "0.9401888772298006"
      ]
     },
     "execution_count": 16,
     "metadata": {},
     "output_type": "execute_result"
    }
   ],
   "source": [
    "f1_score(y_pred, y_test)"
   ]
  },
  {
   "cell_type": "code",
   "execution_count": 17,
   "metadata": {},
   "outputs": [
    {
     "data": {
      "text/plain": [
       "array([1, 0], dtype=int64)"
      ]
     },
     "execution_count": 17,
     "metadata": {},
     "output_type": "execute_result"
    }
   ],
   "source": [
    "reviews = [\"AMAZING I LOVE YOU ALL THERE\", \"I used your service once, but it was terrible\"]\n",
    "\n",
    "reviews = lemmatize(reviews)\n",
    "reviews = bow.transform(reviews)\n",
    "\n",
    "clf.predict(reviews)"
   ]
  },
  {
   "cell_type": "markdown",
   "metadata": {},
   "source": [
    "### Predictions are correct!"
   ]
  }
 ],
 "metadata": {
  "kernelspec": {
   "display_name": "Python 3",
   "language": "python",
   "name": "python3"
  },
  "language_info": {
   "codemirror_mode": {
    "name": "ipython",
    "version": 3
   },
   "file_extension": ".py",
   "mimetype": "text/x-python",
   "name": "python",
   "nbconvert_exporter": "python",
   "pygments_lexer": "ipython3",
   "version": "3.12.3"
  }
 },
 "nbformat": 4,
 "nbformat_minor": 2
}
