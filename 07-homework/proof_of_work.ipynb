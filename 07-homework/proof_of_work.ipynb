{
 "cells": [
  {
   "cell_type": "markdown",
   "metadata": {},
   "source": [
    "# TESTS"
   ]
  },
  {
   "cell_type": "code",
   "execution_count": 1,
   "metadata": {},
   "outputs": [
    {
     "name": "stdout",
     "output_type": "stream",
     "text": [
      "\u001b[1m============================= test session starts =============================\u001b[0m\n",
      "platform win32 -- Python 3.12.3, pytest-8.2.0, pluggy-1.5.0\n",
      "rootdir: c:\\Users\\nick\\Desktop\\HSE\\ML-course-HSE-Spring-2024\\07-homework\n",
      "collected 6 items\n",
      "\n",
      "test_model.py \u001b[32m.\u001b[0m\u001b[32m.\u001b[0m\u001b[32m.\u001b[0m\u001b[32m.\u001b[0m\u001b[32m.\u001b[0m\u001b[32m.\u001b[0m\u001b[32m                                                     [100%]\u001b[0m\n",
      "\n",
      "\u001b[32m============================= \u001b[32m\u001b[1m6 passed\u001b[0m\u001b[32m in 25.76s\u001b[0m\u001b[32m ==============================\u001b[0m\n"
     ]
    }
   ],
   "source": [
    "! pytest test_model.py"
   ]
  },
  {
   "cell_type": "code",
   "execution_count": 2,
   "metadata": {},
   "outputs": [
    {
     "name": "stderr",
     "output_type": "stream",
     "text": [
      "C:\\Users\\nick\\AppData\\Local\\Programs\\Python\\Python312\\python.exe: can't open file 'c:\\\\Users\\\\nick\\\\Desktop\\\\HSE\\\\ML-course-HSE-Spring-2024\\\\07-homework\\\\07-homework\\\\main.py': [Errno 2] No such file or directory\n"
     ]
    }
   ],
   "source": [
    "! python \"07-homework/main.py\" train --data \"07-homework/train.csv\" --test \"07-homework/test.csv\" --model \"07-homework/model.pkl\""
   ]
  },
  {
   "cell_type": "code",
   "execution_count": 3,
   "metadata": {},
   "outputs": [
    {
     "name": "stderr",
     "output_type": "stream",
     "text": [
      "C:\\Users\\nick\\AppData\\Local\\Programs\\Python\\Python312\\python.exe: can't open file 'c:\\\\Users\\\\nick\\\\Desktop\\\\HSE\\\\ML-course-HSE-Spring-2024\\\\07-homework\\\\07-homework\\\\main.py': [Errno 2] No such file or directory\n"
     ]
    }
   ],
   "source": [
    "! python \"07-homework/main.py\" train --data \"07-homework/train.csv\" --split 0.2 --model \"07-homework/model.pkl\""
   ]
  },
  {
   "cell_type": "code",
   "execution_count": 4,
   "metadata": {},
   "outputs": [
    {
     "name": "stderr",
     "output_type": "stream",
     "text": [
      "C:\\Users\\nick\\AppData\\Local\\Programs\\Python\\Python312\\python.exe: can't open file 'c:\\\\Users\\\\nick\\\\Desktop\\\\HSE\\\\ML-course-HSE-Spring-2024\\\\07-homework\\\\07-homework\\\\main.py': [Errno 2] No such file or directory\n"
     ]
    }
   ],
   "source": [
    "! python \"07-homework/main.py\" predict --model \"07-homework/model.pkl\" --data \"terrible awful real crap you\""
   ]
  },
  {
   "cell_type": "code",
   "execution_count": 5,
   "metadata": {},
   "outputs": [
    {
     "name": "stderr",
     "output_type": "stream",
     "text": [
      "C:\\Users\\nick\\AppData\\Local\\Programs\\Python\\Python312\\python.exe: can't open file 'c:\\\\Users\\\\nick\\\\Desktop\\\\HSE\\\\ML-course-HSE-Spring-2024\\\\07-homework\\\\07-homework\\\\main.py': [Errno 2] No such file or directory\n"
     ]
    }
   ],
   "source": [
    "! python \"07-homework/main.py\" predict --model \"07-homework/model.pkl\" --data \"07-homework/test.csv\""
   ]
  },
  {
   "cell_type": "markdown",
   "metadata": {},
   "source": [
    "## No model was provided"
   ]
  },
  {
   "cell_type": "code",
   "execution_count": 6,
   "metadata": {},
   "outputs": [
    {
     "name": "stderr",
     "output_type": "stream",
     "text": [
      "C:\\Users\\nick\\AppData\\Local\\Programs\\Python\\Python312\\python.exe: can't open file 'c:\\\\Users\\\\nick\\\\Desktop\\\\HSE\\\\ML-course-HSE-Spring-2024\\\\07-homework\\\\07-homework\\\\main.py': [Errno 2] No such file or directory\n"
     ]
    }
   ],
   "source": [
    "! python \"07-homework/main.py\" predict --data \"some text\""
   ]
  },
  {
   "cell_type": "markdown",
   "metadata": {},
   "source": [
    "## Invalid filepath"
   ]
  },
  {
   "cell_type": "code",
   "execution_count": 7,
   "metadata": {},
   "outputs": [
    {
     "name": "stderr",
     "output_type": "stream",
     "text": [
      "C:\\Users\\nick\\AppData\\Local\\Programs\\Python\\Python312\\python.exe: can't open file 'c:\\\\Users\\\\nick\\\\Desktop\\\\HSE\\\\ML-course-HSE-Spring-2024\\\\07-homework\\\\07-homework\\\\main.py': [Errno 2] No such file or directory\n"
     ]
    }
   ],
   "source": [
    "! python \"07-homework/main.py\" train --data traibn.csv --test \"07-homework/test.csv\" --model \"07-homework/model.pkl\""
   ]
  }
 ],
 "metadata": {
  "kernelspec": {
   "display_name": "Python 3",
   "language": "python",
   "name": "python3"
  },
  "language_info": {
   "codemirror_mode": {
    "name": "ipython",
    "version": 3
   },
   "file_extension": ".py",
   "mimetype": "text/x-python",
   "name": "python",
   "nbconvert_exporter": "python",
   "pygments_lexer": "ipython3",
   "version": "3.12.3"
  }
 },
 "nbformat": 4,
 "nbformat_minor": 2
}
