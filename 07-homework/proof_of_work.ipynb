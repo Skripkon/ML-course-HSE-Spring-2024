{
 "cells": [
  {
   "cell_type": "code",
   "execution_count": 44,
   "metadata": {},
   "outputs": [
    {
     "name": "stdout",
     "output_type": "stream",
     "text": [
      "f1_score on test.csv=0.5\n",
      "\n"
     ]
    }
   ],
   "source": [
    "! python3 main.py train --data train.csv --test test.csv --model model.pkl"
   ]
  },
  {
   "cell_type": "code",
   "execution_count": 45,
   "metadata": {},
   "outputs": [
    {
     "name": "stdout",
     "output_type": "stream",
     "text": [
      "f1_score on test data=0.903\n",
      "\n"
     ]
    }
   ],
   "source": [
    "! python3 main.py train --data train.csv --split 0.2 --model model.pkl"
   ]
  },
  {
   "cell_type": "code",
   "execution_count": 46,
   "metadata": {},
   "outputs": [
    {
     "name": "stdout",
     "output_type": "stream",
     "text": [
      "0\n"
     ]
    }
   ],
   "source": [
    "! python3 main.py predict --model model.pkl --data \"terrible awful real crap shit fck you\""
   ]
  },
  {
   "cell_type": "code",
   "execution_count": 15,
   "metadata": {},
   "outputs": [
    {
     "name": "stdout",
     "output_type": "stream",
     "text": [
      "0\n",
      "1\n",
      "1\n",
      "1\n",
      "0\n",
      "1\n",
      "0\n",
      "0\n"
     ]
    }
   ],
   "source": [
    "! python3 main.py predict --model model.pkl --data test.csv"
   ]
  },
  {
   "cell_type": "code",
   "execution_count": 5,
   "metadata": {},
   "outputs": [
    {
     "name": "stdout",
     "output_type": "stream",
     "text": [
      "usage: Reviews Classifier [-h] -m MODEL -d DATA [-t TEST] [-s SPLIT]\n",
      "                          {train,predict}\n",
      "Reviews Classifier: error: the following arguments are required: -m/--model\n"
     ]
    }
   ],
   "source": [
    "! python3 main.py predict --data \"some text\""
   ]
  },
  {
   "cell_type": "code",
   "execution_count": 6,
   "metadata": {},
   "outputs": [
    {
     "name": "stdout",
     "output_type": "stream",
     "text": [
      "File traibn.csv doesn't exist\n"
     ]
    }
   ],
   "source": [
    "! python3 main.py train --data traibn.csv --test test.csv --model model.pkl"
   ]
  }
 ],
 "metadata": {
  "kernelspec": {
   "display_name": "Python 3",
   "language": "python",
   "name": "python3"
  },
  "language_info": {
   "codemirror_mode": {
    "name": "ipython",
    "version": 3
   },
   "file_extension": ".py",
   "mimetype": "text/x-python",
   "name": "python",
   "nbconvert_exporter": "python",
   "pygments_lexer": "ipython3",
   "version": "3.11.6"
  }
 },
 "nbformat": 4,
 "nbformat_minor": 2
}
