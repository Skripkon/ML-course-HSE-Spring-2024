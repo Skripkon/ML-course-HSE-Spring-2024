{
 "cells": [
  {
   "cell_type": "code",
   "execution_count": 1,
   "metadata": {},
   "outputs": [
    {
     "name": "stdout",
     "output_type": "stream",
     "text": [
      "Model predicts PYTHON\n",
      "Model predicts PYTHON\n",
      "Model predicts PYTHON\n"
     ]
    }
   ],
   "source": [
    "! python3 main.py tests/python1.txt \n",
    "! python3 main.py tests/python2.txt \n",
    "! python3 main.py tests/python3.txt "
   ]
  },
  {
   "cell_type": "code",
   "execution_count": 2,
   "metadata": {},
   "outputs": [
    {
     "name": "stdout",
     "output_type": "stream",
     "text": [
      "Model predicts C++\n",
      "Model predicts C++\n",
      "Model predicts C++\n"
     ]
    }
   ],
   "source": [
    "! python3 main.py tests/cpp1.txt \n",
    "! python3 main.py tests/cpp2.txt \n",
    "! python3 main.py tests/cpp3.txt "
   ]
  },
  {
   "cell_type": "code",
   "execution_count": 3,
   "metadata": {},
   "outputs": [
    {
     "name": "stdout",
     "output_type": "stream",
     "text": [
      "Model predicts PLAIN TEXT\n",
      "Model predicts PLAIN TEXT\n",
      "Model predicts PLAIN TEXT\n"
     ]
    }
   ],
   "source": [
    "! python3 main.py tests/english1.txt \n",
    "! python3 main.py tests/english2.txt \n",
    "! python3 main.py tests/english3.txt "
   ]
  },
  {
   "cell_type": "code",
   "execution_count": 4,
   "metadata": {},
   "outputs": [
    {
     "name": "stdout",
     "output_type": "stream",
     "text": [
      "Model predicts JAVASCRIPT\n",
      "Model predicts JAVASCRIPT\n",
      "Model predicts JAVASCRIPT\n"
     ]
    }
   ],
   "source": [
    "! python3 main.py tests/js1.txt \n",
    "! python3 main.py tests/js2.txt \n",
    "! python3 main.py tests/js3.txt "
   ]
  },
  {
   "cell_type": "code",
   "execution_count": 5,
   "metadata": {},
   "outputs": [
    {
     "name": "stdout",
     "output_type": "stream",
     "text": [
      "Model predicts BASH\n",
      "Model predicts BASH\n",
      "Model predicts BASH\n"
     ]
    }
   ],
   "source": [
    "! python3 main.py tests/bash1.txt \n",
    "! python3 main.py tests/bash2.txt \n",
    "! python3 main.py tests/bash3.txt "
   ]
  },
  {
   "cell_type": "code",
   "execution_count": 6,
   "metadata": {},
   "outputs": [
    {
     "name": "stdout",
     "output_type": "stream",
     "text": [
      "Model predicts JAVA\n",
      "Model predicts JAVA\n",
      "Model predicts JAVA\n"
     ]
    }
   ],
   "source": [
    "! python3 main.py tests/java1.txt\n",
    "! python3 main.py tests/java2.txt\n",
    "! python3 main.py tests/java3.txt"
   ]
  }
 ],
 "metadata": {
  "kernelspec": {
   "display_name": ".venv",
   "language": "python",
   "name": "python3"
  },
  "language_info": {
   "codemirror_mode": {
    "name": "ipython",
    "version": 3
   },
   "file_extension": ".py",
   "mimetype": "text/x-python",
   "name": "python",
   "nbconvert_exporter": "python",
   "pygments_lexer": "ipython3",
   "version": "3.11.6"
  }
 },
 "nbformat": 4,
 "nbformat_minor": 2
}
